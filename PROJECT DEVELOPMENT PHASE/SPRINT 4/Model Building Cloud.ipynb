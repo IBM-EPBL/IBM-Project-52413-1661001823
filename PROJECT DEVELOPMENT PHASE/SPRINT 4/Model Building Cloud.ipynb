{
 "cells": [
  {
   "cell_type": "code",
   "execution_count": 1,
   "id": "e30641cc",
   "metadata": {},
   "outputs": [
    {
     "name": "stdout",
     "output_type": "stream",
     "text": [
      "IMPORTED REQUIRED LIBRARIES\n"
     ]
    }
   ],
   "source": [
    "import pandas as pd\n",
    "import numpy as np\n",
    "import matplotlib as plt\n",
    "from sklearn.preprocessing import LabelEncoder\n",
    "import pickle\n",
    "print(\"IMPORTED REQUIRED LIBRARIES\")"
   ]
  },
  {
   "cell_type": "code",
   "execution_count": 2,
   "id": "640f93a0",
   "metadata": {
    "scrolled": false
   },
   "outputs": [
    {
     "data": {
      "text/html": [
       "<div>\n",
       "<style scoped>\n",
       "    .dataframe tbody tr th:only-of-type {\n",
       "        vertical-align: middle;\n",
       "    }\n",
       "\n",
       "    .dataframe tbody tr th {\n",
       "        vertical-align: top;\n",
       "    }\n",
       "\n",
       "    .dataframe thead th {\n",
       "        text-align: right;\n",
       "    }\n",
       "</style>\n",
       "<table border=\"1\" class=\"dataframe\">\n",
       "  <thead>\n",
       "    <tr style=\"text-align: right;\">\n",
       "      <th></th>\n",
       "      <th>dateCrawled</th>\n",
       "      <th>name</th>\n",
       "      <th>seller</th>\n",
       "      <th>offerType</th>\n",
       "      <th>price</th>\n",
       "      <th>abtest</th>\n",
       "      <th>vehicleType</th>\n",
       "      <th>yearOfRegistration</th>\n",
       "      <th>gearbox</th>\n",
       "      <th>powerPS</th>\n",
       "      <th>model</th>\n",
       "      <th>kilometer</th>\n",
       "      <th>monthOfRegistration</th>\n",
       "      <th>fuelType</th>\n",
       "      <th>brand</th>\n",
       "      <th>notRepairedDamage</th>\n",
       "      <th>dateCreated</th>\n",
       "      <th>nrOfPictures</th>\n",
       "      <th>postalCode</th>\n",
       "      <th>lastSeen</th>\n",
       "    </tr>\n",
       "  </thead>\n",
       "  <tbody>\n",
       "    <tr>\n",
       "      <th>0</th>\n",
       "      <td>24-03-2016 11.52</td>\n",
       "      <td>Golf_3_1.6</td>\n",
       "      <td>privat</td>\n",
       "      <td>Angebot</td>\n",
       "      <td>480.0</td>\n",
       "      <td>test</td>\n",
       "      <td>NaN</td>\n",
       "      <td>1993.0</td>\n",
       "      <td>manuell</td>\n",
       "      <td>0.0</td>\n",
       "      <td>golf</td>\n",
       "      <td>150000</td>\n",
       "      <td>0.0</td>\n",
       "      <td>benzin</td>\n",
       "      <td>volkswagen</td>\n",
       "      <td>NaN</td>\n",
       "      <td>24-03-2016 0.00</td>\n",
       "      <td>0.0</td>\n",
       "      <td>70435.0</td>\n",
       "      <td>07-04-2016 3.16</td>\n",
       "    </tr>\n",
       "    <tr>\n",
       "      <th>1</th>\n",
       "      <td>24-03-2016 10.58</td>\n",
       "      <td>A5_Sportback_2.7_Tdi</td>\n",
       "      <td>privat</td>\n",
       "      <td>Angebot</td>\n",
       "      <td>18300.0</td>\n",
       "      <td>test</td>\n",
       "      <td>coupe</td>\n",
       "      <td>2011.0</td>\n",
       "      <td>manuell</td>\n",
       "      <td>190.0</td>\n",
       "      <td>NaN</td>\n",
       "      <td>125000</td>\n",
       "      <td>5.0</td>\n",
       "      <td>diesel</td>\n",
       "      <td>audi</td>\n",
       "      <td>ja</td>\n",
       "      <td>24-03-2016 0.00</td>\n",
       "      <td>0.0</td>\n",
       "      <td>66954.0</td>\n",
       "      <td>07-04-2016 1.46</td>\n",
       "    </tr>\n",
       "    <tr>\n",
       "      <th>2</th>\n",
       "      <td>14-03-2016 12.52</td>\n",
       "      <td>Jeep_Grand_Cherokee_\"Overland\"</td>\n",
       "      <td>privat</td>\n",
       "      <td>Angebot</td>\n",
       "      <td>9800.0</td>\n",
       "      <td>test</td>\n",
       "      <td>suv</td>\n",
       "      <td>2004.0</td>\n",
       "      <td>automatik</td>\n",
       "      <td>163.0</td>\n",
       "      <td>grand</td>\n",
       "      <td>125000</td>\n",
       "      <td>8.0</td>\n",
       "      <td>diesel</td>\n",
       "      <td>jeep</td>\n",
       "      <td>NaN</td>\n",
       "      <td>14-03-2016 0.00</td>\n",
       "      <td>0.0</td>\n",
       "      <td>90480.0</td>\n",
       "      <td>05-04-2016 12.47</td>\n",
       "    </tr>\n",
       "    <tr>\n",
       "      <th>3</th>\n",
       "      <td>17-03-2016 16.54</td>\n",
       "      <td>GOLF_4_1_4__3TÜRER</td>\n",
       "      <td>privat</td>\n",
       "      <td>Angebot</td>\n",
       "      <td>1500.0</td>\n",
       "      <td>test</td>\n",
       "      <td>kleinwagen</td>\n",
       "      <td>2001.0</td>\n",
       "      <td>manuell</td>\n",
       "      <td>75.0</td>\n",
       "      <td>golf</td>\n",
       "      <td>150000</td>\n",
       "      <td>6.0</td>\n",
       "      <td>benzin</td>\n",
       "      <td>volkswagen</td>\n",
       "      <td>nein</td>\n",
       "      <td>17-03-2016 0.00</td>\n",
       "      <td>0.0</td>\n",
       "      <td>91074.0</td>\n",
       "      <td>17-03-2016 17.40</td>\n",
       "    </tr>\n",
       "    <tr>\n",
       "      <th>4</th>\n",
       "      <td>31-03-2016 17.25</td>\n",
       "      <td>Skoda_Fabia_1.4_TDI_PD_Classic</td>\n",
       "      <td>privat</td>\n",
       "      <td>Angebot</td>\n",
       "      <td>3600.0</td>\n",
       "      <td>test</td>\n",
       "      <td>kleinwagen</td>\n",
       "      <td>2008.0</td>\n",
       "      <td>manuell</td>\n",
       "      <td>69.0</td>\n",
       "      <td>fabia</td>\n",
       "      <td>90000</td>\n",
       "      <td>7.0</td>\n",
       "      <td>diesel</td>\n",
       "      <td>skoda</td>\n",
       "      <td>nein</td>\n",
       "      <td>31-03-2016 0.00</td>\n",
       "      <td>0.0</td>\n",
       "      <td>60437.0</td>\n",
       "      <td>06-04-2016 10.17</td>\n",
       "    </tr>\n",
       "  </tbody>\n",
       "</table>\n",
       "</div>"
      ],
      "text/plain": [
       "        dateCrawled                            name  seller offerType  \\\n",
       "0  24-03-2016 11.52                      Golf_3_1.6  privat   Angebot   \n",
       "1  24-03-2016 10.58            A5_Sportback_2.7_Tdi  privat   Angebot   \n",
       "2  14-03-2016 12.52  Jeep_Grand_Cherokee_\"Overland\"  privat   Angebot   \n",
       "3  17-03-2016 16.54              GOLF_4_1_4__3TÜRER  privat   Angebot   \n",
       "4  31-03-2016 17.25  Skoda_Fabia_1.4_TDI_PD_Classic  privat   Angebot   \n",
       "\n",
       "     price abtest vehicleType  yearOfRegistration    gearbox  powerPS  model  \\\n",
       "0    480.0   test         NaN              1993.0    manuell      0.0   golf   \n",
       "1  18300.0   test       coupe              2011.0    manuell    190.0    NaN   \n",
       "2   9800.0   test         suv              2004.0  automatik    163.0  grand   \n",
       "3   1500.0   test  kleinwagen              2001.0    manuell     75.0   golf   \n",
       "4   3600.0   test  kleinwagen              2008.0    manuell     69.0  fabia   \n",
       "\n",
       "  kilometer  monthOfRegistration fuelType       brand notRepairedDamage  \\\n",
       "0    150000                  0.0   benzin  volkswagen               NaN   \n",
       "1    125000                  5.0   diesel        audi                ja   \n",
       "2    125000                  8.0   diesel        jeep               NaN   \n",
       "3    150000                  6.0   benzin  volkswagen              nein   \n",
       "4     90000                  7.0   diesel       skoda              nein   \n",
       "\n",
       "       dateCreated  nrOfPictures  postalCode          lastSeen  \n",
       "0  24-03-2016 0.00           0.0     70435.0   07-04-2016 3.16  \n",
       "1  24-03-2016 0.00           0.0     66954.0   07-04-2016 1.46  \n",
       "2  14-03-2016 0.00           0.0     90480.0  05-04-2016 12.47  \n",
       "3  17-03-2016 0.00           0.0     91074.0  17-03-2016 17.40  \n",
       "4  31-03-2016 0.00           0.0     60437.0  06-04-2016 10.17  "
      ]
     },
     "execution_count": 2,
     "metadata": {},
     "output_type": "execute_result"
    }
   ],
   "source": [
    "# df = pd.read_csv(\"C:/Users/SUGARANJAN/Desktop/IBM/Data/autos.csv\", header=0 , sep=',' ,encoding='Latin1',low_memory=False)\n",
    "# df.head()\n",
    "import os, types\n",
    "import pandas as pd\n",
    "from botocore.client import Config\n",
    "import ibm_boto3\n",
    "import io\n",
    "def __iter__(self): return 0\n",
    "\n",
    "# @hidden_cell\n",
    "# The following code accesses a file in your IBM Cloud Object Storage. It includes your credentials.\n",
    "# You might want to remove those credentials before you share the notebook.\n",
    "cos_client = ibm_boto3.client(service_name='s3',\n",
    "    ibm_api_key_id='DT15l-lL0017uhnUGwXyhG_Eort5gohoW6XJTNoT3RKk',\n",
    "    ibm_auth_endpoint=\"https://iam.cloud.ibm.com/oidc/token\",\n",
    "    config=Config(signature_version='oauth'),\n",
    "    endpoint_url='https://s3.private.us.cloud-object-storage.appdomain.cloud')\n",
    "\n",
    "bucket = 'carresalevalueprediction-donotdelete-pr-yuhtmzidi0ka1p'\n",
    "object_key = 'autos.csv'\n",
    "\n",
    "body = cos_client.get_object(Bucket=bucket,Key=object_key)\n",
    "df = pd.read_csv((io.BytesIO(body['Body'].read())) , header=0 , sep=',' ,encoding='Latin1',low_memory=False)\n",
    "df.head()"
   ]
  },
  {
   "cell_type": "code",
   "execution_count": 3,
   "id": "89b36a75",
   "metadata": {},
   "outputs": [
    {
     "name": "stdout",
     "output_type": "stream",
     "text": [
      "privat        371534\n",
      "gewerblich         3\n",
      "golf               1\n",
      "Name: seller, dtype: int64\n",
      "Angebot    371525\n",
      "Gesuch         12\n",
      "150000          1\n",
      "Name: offerType, dtype: int64\n"
     ]
    }
   ],
   "source": [
    "print(df.seller.value_counts())\n",
    "df[df.seller !='gewerblich']\n",
    "df=df.drop('seller',axis=1)\n",
    "\n",
    "print(df.offerType.value_counts())\n",
    "df[df.offerType !='Gesuch']\n",
    "df=df.drop('offerType',axis=1)"
   ]
  },
  {
   "cell_type": "code",
   "execution_count": 4,
   "id": "a9e846fc",
   "metadata": {},
   "outputs": [
    {
     "name": "stdout",
     "output_type": "stream",
     "text": [
      "(371539, 18)\n",
      "(319717, 18)\n",
      "(319649, 18)\n"
     ]
    }
   ],
   "source": [
    "print(df.shape)\n",
    "df=df[(df.powerPS>50) & (df.powerPS<900)]\n",
    "print(df.shape)\n",
    "df=df[(df.yearOfRegistration>=1950)&(df.yearOfRegistration<2022)]\n",
    "print(df.shape)"
   ]
  },
  {
   "cell_type": "code",
   "execution_count": 5,
   "id": "f1054c70",
   "metadata": {},
   "outputs": [],
   "source": [
    "df.drop(['name','abtest','dateCrawled','nrOfPictures','lastSeen','postalCode','dateCreated'], axis='columns',inplace=True)"
   ]
  },
  {
   "cell_type": "code",
   "execution_count": 6,
   "id": "8efc574f",
   "metadata": {},
   "outputs": [],
   "source": [
    "new_df=df.copy()\n",
    "new_df=new_df.drop_duplicates(['price','vehicleType','yearOfRegistration','gearbox','powerPS','model','kilometer','monthOfRegistration','fuelType','notRepairedDamage'])"
   ]
  },
  {
   "cell_type": "code",
   "execution_count": 7,
   "id": "1e724dfe",
   "metadata": {},
   "outputs": [],
   "source": [
    "new_df.gearbox.replace(('manuell','automatik'),('manual','automatic'),inplace=True)\n",
    "new_df.fuelType.replace(('benzin','andere','elektro'),('petrol','others','electric'),inplace=True)\n",
    "new_df.vehicleType.replace(('kleinwagen','cabrio','kombi','andere'),('samll car','convertible','combination','others'),inplace=True)\n",
    "new_df.notRepairedDamage.replace(('ja','nein'),('Yes','No'),inplace=True)"
   ]
  },
  {
   "cell_type": "code",
   "execution_count": 8,
   "id": "a920fa2a",
   "metadata": {},
   "outputs": [],
   "source": [
    "new_df=new_df[(new_df.price>=100)&(new_df.price<=150000)]\n",
    "\n",
    "new_df['notRepairedDamage'].fillna(value='not-declared',inplace=True)\n",
    "new_df['fuelType'].fillna(value='not-declared',inplace=True)\n",
    "new_df['gearbox'].fillna(value='not-declared',inplace=True)\n",
    "new_df['vehicleType'].fillna(value='not-declared',inplace=True)\n",
    "new_df['model'].fillna(value='not-declared',inplace=True)"
   ]
  },
  {
   "cell_type": "code",
   "execution_count": 9,
   "id": "adab471b",
   "metadata": {},
   "outputs": [],
   "source": [
    "from ibm_watson_machine_learning import APIClient\n",
    "wml_credentials={\n",
    "    \"url\":\"https://us-south.ml.cloud.ibm.com\",\n",
    "    \"apikey\":\"hEAn_mcoP3u_-ZjagjeqlxDayqUiETpYVYWdR1OLKAby\"\n",
    "}\n",
    "client =APIClient(wml_credentials)"
   ]
  },
  {
   "cell_type": "code",
   "execution_count": 10,
   "id": "62c810a3",
   "metadata": {},
   "outputs": [],
   "source": [
    "def guide_from_space_name(client, space_name):\n",
    "    space = client.spaces.get_details()\n",
    "#     print(space)\n",
    "    return(next(item for item in space['resources'] if item['entity'][\"name\"]==space_name)['metadata']['id'])"
   ]
  },
  {
   "cell_type": "code",
   "execution_count": 11,
   "id": "149c8194",
   "metadata": {},
   "outputs": [
    {
     "name": "stdout",
     "output_type": "stream",
     "text": [
      "Space UIDbe467bbb-03a2-40e7-bf5a-91836e346951\n"
     ]
    }
   ],
   "source": [
    "space_uid=guide_from_space_name(client,'CAR')\n",
    "print(\"Space UID\"+ space_uid)"
   ]
  },
  {
   "cell_type": "code",
   "execution_count": 12,
   "id": "4bc84d60",
   "metadata": {},
   "outputs": [
    {
     "data": {
      "text/plain": [
       "'SUCCESS'"
      ]
     },
     "execution_count": 12,
     "metadata": {},
     "output_type": "execute_result"
    }
   ],
   "source": [
    "client.set.default_space(space_uid)"
   ]
  },
  {
   "cell_type": "code",
   "execution_count": 93,
   "id": "93132c37",
   "metadata": {},
   "outputs": [
    {
     "name": "stdout",
     "output_type": "stream",
     "text": [
      "-----------------------------  ------------------------------------  ----\n",
      "NAME                           ASSET_ID                              TYPE\n",
      "default_py3.6                  0062b8c9-8b7d-44a0-a9b9-46c416adcbd9  base\n",
      "kernel-spark3.2-scala2.12      020d69ce-7ac1-5e68-ac1a-31189867356a  base\n",
      "pytorch-onnx_1.3-py3.7-edt     069ea134-3346-5748-b513-49120e15d288  base\n",
      "scikit-learn_0.20-py3.6        09c5a1d0-9c1e-4473-a344-eb7b665ff687  base\n",
      "spark-mllib_3.0-scala_2.12     09f4cff0-90a7-5899-b9ed-1ef348aebdee  base\n",
      "pytorch-onnx_rt22.1-py3.9      0b848dd4-e681-5599-be41-b5f6fccc6471  base\n",
      "ai-function_0.1-py3.6          0cdb0f1e-5376-4f4d-92dd-da3b69aa9bda  base\n",
      "shiny-r3.6                     0e6e79df-875e-4f24-8ae9-62dcc2148306  base\n",
      "tensorflow_2.4-py3.7-horovod   1092590a-307d-563d-9b62-4eb7d64b3f22  base\n",
      "pytorch_1.1-py3.6              10ac12d6-6b30-4ccd-8392-3e922c096a92  base\n",
      "tensorflow_1.15-py3.6-ddl      111e41b3-de2d-5422-a4d6-bf776828c4b7  base\n",
      "autoai-kb_rt22.2-py3.10        125b6d9a-5b1f-5e8d-972a-b251688ccf40  base\n",
      "runtime-22.1-py3.9             12b83a17-24d8-5082-900f-0ab31fbfd3cb  base\n",
      "scikit-learn_0.22-py3.6        154010fa-5b3b-4ac1-82af-4d5ee5abbc85  base\n",
      "default_r3.6                   1b70aec3-ab34-4b87-8aa0-a4a3c8296a36  base\n",
      "pytorch-onnx_1.3-py3.6         1bc6029a-cc97-56da-b8e0-39c3880dbbe7  base\n",
      "kernel-spark3.3-r3.6           1c9e5454-f216-59dd-a20e-474a5cdf5988  base\n",
      "pytorch-onnx_rt22.1-py3.9-edt  1d362186-7ad5-5b59-8b6c-9d0880bde37f  base\n",
      "tensorflow_2.1-py3.6           1eb25b84-d6ed-5dde-b6a5-3fbdf1665666  base\n",
      "spark-mllib_3.2                20047f72-0a98-58c7-9ff5-a77b012eb8f5  base\n",
      "tensorflow_2.4-py3.8-horovod   217c16f6-178f-56bf-824a-b19f20564c49  base\n",
      "runtime-22.1-py3.9-cuda        26215f05-08c3-5a41-a1b0-da66306ce658  base\n",
      "do_py3.8                       295addb5-9ef9-547e-9bf4-92ae3563e720  base\n",
      "autoai-ts_3.8-py3.8            2aa0c932-798f-5ae9-abd6-15e0c2402fb5  base\n",
      "tensorflow_1.15-py3.6          2b73a275-7cbf-420b-a912-eae7f436e0bc  base\n",
      "kernel-spark3.3-py3.9          2b7961e2-e3b1-5a8c-a491-482c8368839a  base\n",
      "pytorch_1.2-py3.6              2c8ef57d-2687-4b7d-acce-01f94976dac1  base\n",
      "spark-mllib_2.3                2e51f700-bca0-4b0d-88dc-5c6791338875  base\n",
      "pytorch-onnx_1.1-py3.6-edt     32983cea-3f32-4400-8965-dde874a8d67e  base\n",
      "spark-mllib_3.0-py37           36507ebe-8770-55ba-ab2a-eafe787600e9  base\n",
      "spark-mllib_2.4                390d21f8-e58b-4fac-9c55-d7ceda621326  base\n",
      "autoai-ts_rt22.2-py3.10        396b2e83-0953-5b86-9a55-7ce1628a406f  base\n",
      "xgboost_0.82-py3.6             39e31acd-5f30-41dc-ae44-60233c80306e  base\n",
      "pytorch-onnx_1.2-py3.6-edt     40589d0e-7019-4e28-8daa-fb03b6f4fe12  base\n",
      "pytorch-onnx_rt22.2-py3.10     40e73f55-783a-5535-b3fa-0c8b94291431  base\n",
      "default_r36py38                41c247d3-45f8-5a71-b065-8580229facf0  base\n",
      "autoai-ts_rt22.1-py3.9         4269d26e-07ba-5d40-8f66-2d495b0c71f7  base\n",
      "autoai-obm_3.0                 42b92e18-d9ab-567f-988a-4240ba1ed5f7  base\n",
      "pmml-3.0_4.3                   493bcb95-16f1-5bc5-bee8-81b8af80e9c7  base\n",
      "spark-mllib_2.4-r_3.6          49403dff-92e9-4c87-a3d7-a42d0021c095  base\n",
      "xgboost_0.90-py3.6             4ff8d6c2-1343-4c18-85e1-689c965304d3  base\n",
      "pytorch-onnx_1.1-py3.6         50f95b2a-bc16-43bb-bc94-b0bed208c60b  base\n",
      "autoai-ts_3.9-py3.8            52c57136-80fa-572e-8728-a5e7cbb42cde  base\n",
      "spark-mllib_2.4-scala_2.11     55a70f99-7320-4be5-9fb9-9edb5a443af5  base\n",
      "spark-mllib_3.0                5c1b0ca2-4977-5c2e-9439-ffd44ea8ffe9  base\n",
      "autoai-obm_2.0                 5c2e37fa-80b8-5e77-840f-d912469614ee  base\n",
      "spss-modeler_18.1              5c3cad7e-507f-4b2a-a9a3-ab53a21dee8b  base\n",
      "cuda-py3.8                     5d3232bf-c86b-5df4-a2cd-7bb870a1cd4e  base\n",
      "autoai-kb_3.1-py3.7            632d4b22-10aa-5180-88f0-f52dfb6444d7  base\n",
      "pytorch-onnx_1.7-py3.8         634d3cdc-b562-5bf9-a2d4-ea90a478456b  base\n",
      "-----------------------------  ------------------------------------  ----\n",
      "Note: Only first 50 records were displayed. To display more use 'limit' parameter.\n"
     ]
    }
   ],
   "source": [
    "client.software_specifications.list()"
   ]
  },
  {
   "cell_type": "code",
   "execution_count": 17,
   "id": "8dc909c1",
   "metadata": {},
   "outputs": [
    {
     "data": {
      "text/plain": [
       "'12b83a17-24d8-5082-900f-0ab31fbfd3cb'"
      ]
     },
     "execution_count": 17,
     "metadata": {},
     "output_type": "execute_result"
    }
   ],
   "source": [
    "software_spec_uid  = client.software_specifications.get_uid_by_name(\"runtime-22.1-py3.9\")\n",
    "software_spec_uid"
   ]
  },
  {
   "cell_type": "code",
   "execution_count": 18,
   "id": "d8e067ca",
   "metadata": {},
   "outputs": [
    {
     "name": "stdout",
     "output_type": "stream",
     "text": [
      "          price  vehicleType  yearOfRegistration    gearbox  powerPS  \\\n",
      "1       18300.0        coupe              2011.0     manual    190.0   \n",
      "2        9800.0          suv              2004.0  automatic    163.0   \n",
      "3        1500.0    samll car              2001.0     manual     75.0   \n",
      "4        3600.0    samll car              2008.0     manual     69.0   \n",
      "5         650.0    limousine              1995.0     manual    102.0   \n",
      "...         ...          ...                 ...        ...      ...   \n",
      "371531   3200.0    limousine              2004.0     manual    225.0   \n",
      "371535   1199.0  convertible              2000.0  automatic    101.0   \n",
      "371536   9200.0          bus              1996.0     manual    102.0   \n",
      "371537   3400.0  combination              2002.0     manual    100.0   \n",
      "371538  28990.0    limousine              2013.0     manual    320.0   \n",
      "\n",
      "               model kilometer  monthOfRegistration fuelType       brand  \\\n",
      "1       not-declared    125000                  5.0   diesel        audi   \n",
      "2              grand    125000                  8.0   diesel        jeep   \n",
      "3               golf    150000                  6.0   petrol  volkswagen   \n",
      "4              fabia     90000                  7.0   diesel       skoda   \n",
      "5                3er    150000                 10.0   petrol         bmw   \n",
      "...              ...       ...                  ...      ...         ...   \n",
      "371531          leon    150000                  5.0   petrol        seat   \n",
      "371535        fortwo    125000                  3.0   petrol       smart   \n",
      "371536   transporter    150000                  3.0   diesel  volkswagen   \n",
      "371537          golf    150000                  6.0   diesel  volkswagen   \n",
      "371538       m_reihe     50000                  8.0   petrol         bmw   \n",
      "\n",
      "       notRepairedDamage  \n",
      "1                    Yes  \n",
      "2           not-declared  \n",
      "3                     No  \n",
      "4                     No  \n",
      "5                    Yes  \n",
      "...                  ...  \n",
      "371531               Yes  \n",
      "371535                No  \n",
      "371536                No  \n",
      "371537      not-declared  \n",
      "371538                No  \n",
      "\n",
      "[288033 rows x 11 columns]\n"
     ]
    }
   ],
   "source": [
    "print(new_df)"
   ]
  },
  {
   "cell_type": "code",
   "execution_count": 19,
   "id": "e30f6207",
   "metadata": {},
   "outputs": [
    {
     "name": "stdout",
     "output_type": "stream",
     "text": [
      "gearbox : LabelEncoder()\n",
      "notRepairedDamage : LabelEncoder()\n",
      "model : LabelEncoder()\n",
      "brand : LabelEncoder()\n",
      "fuelType : LabelEncoder()\n",
      "vehicleType : LabelEncoder()\n",
      "Index(['price', 'yearOfRegistration', 'powerPS', 'kilometer',\n",
      "       'monthOfRegistration', 'gearbox_labels', 'notRepairedDamage_labels',\n",
      "       'model_labels', 'brand_labels', 'fuelType_labels',\n",
      "       'vehicleType_labels'],\n",
      "      dtype='object')\n"
     ]
    }
   ],
   "source": [
    "labels=['gearbox','notRepairedDamage','model','brand','fuelType','vehicleType']\n",
    "\n",
    "mapper={}\n",
    "for i in labels:\n",
    "    mapper[i]=LabelEncoder()\n",
    "    mapper[i].fit(new_df[i])\n",
    "    tr=mapper[i].transform(new_df[i])\n",
    "    np.save(str('classes'+i+'.npy'),mapper[i].classes_)\n",
    "    print(i,\":\",mapper[i])\n",
    "    new_df.loc[:, i+ '_labels']=pd.Series(tr,index=new_df.index)\n",
    "\n",
    "labeled = new_df[['price','yearOfRegistration','powerPS','kilometer','monthOfRegistration']+[x+\"_labels\" for x in labels]]\n",
    "print(labeled.columns)"
   ]
  },
  {
   "cell_type": "code",
   "execution_count": 20,
   "id": "813dbfc2",
   "metadata": {},
   "outputs": [],
   "source": [
    "Y=labeled.iloc[:,0].values\n",
    "X=labeled.iloc[:,1:].values\n",
    "\n",
    "Y=Y.reshape(-1,1)"
   ]
  },
  {
   "cell_type": "code",
   "execution_count": 23,
   "id": "48c72cc8",
   "metadata": {},
   "outputs": [],
   "source": [
    "from sklearn.model_selection import cross_val_score,train_test_split\n",
    "X_train , X_test, Y_train , Y_test = train_test_split(X,Y,test_size=0.3,random_state=3)"
   ]
  },
  {
   "cell_type": "code",
   "execution_count": 24,
   "id": "00bfc39e",
   "metadata": {},
   "outputs": [
    {
     "data": {
      "text/plain": [
       "RandomForestRegressor(max_depth=10, n_estimators=1000, random_state=34)"
      ]
     },
     "execution_count": 24,
     "metadata": {},
     "output_type": "execute_result"
    }
   ],
   "source": [
    "from sklearn.ensemble import RandomForestRegressor\n",
    "from sklearn.metrics import r2_score\n",
    "regressor = RandomForestRegressor(n_estimators = 1000,max_depth = 10,random_state = 34)\n",
    "\n",
    "regressor.fit(X_train, np.ravel(Y_train,order='C'))"
   ]
  },
  {
   "cell_type": "code",
   "execution_count": 25,
   "id": "48e54170",
   "metadata": {},
   "outputs": [
    {
     "name": "stdout",
     "output_type": "stream",
     "text": [
      "0.8310350387286918\n"
     ]
    }
   ],
   "source": [
    "y_pred = regressor.predict(X_test)\n",
    "print(r2_score(Y_test,y_pred))"
   ]
  },
  {
   "cell_type": "code",
   "execution_count": 68,
   "id": "017cbff1",
   "metadata": {},
   "outputs": [],
   "source": [
    "filename='resale_model.sav'\n",
    "pickle.dump(regressor,open(filename,'wb'))"
   ]
  },
  {
   "cell_type": "code",
   "execution_count": 29,
   "id": "ba5622d6",
   "metadata": {},
   "outputs": [],
   "source": [
    "model_details = client.repository.store_model(model=regressor,meta_props={\n",
    "     client.repository.ModelMetaNames.NAME: \"resale_model\",\n",
    "     client.repository.ModelMetaNames.SOFTWARE_SPEC_UID: software_spec_uid,\n",
    "     client.repository.ModelMetaNames.TYPE: \"scikit-learn_1.0\"\n",
    "})\n",
    "model_id = client.repository.get_model_id(model_details)"
   ]
  },
  {
   "cell_type": "code",
   "execution_count": 30,
   "id": "6adcd548",
   "metadata": {},
   "outputs": [
    {
     "data": {
      "text/plain": [
       "'43753469-712a-45d8-8c5d-558d854e4991'"
      ]
     },
     "execution_count": 30,
     "metadata": {},
     "output_type": "execute_result"
    }
   ],
   "source": [
    "model_id"
   ]
  },
  {
   "cell_type": "code",
   "execution_count": 31,
   "id": "feea04f4",
   "metadata": {},
   "outputs": [
    {
     "data": {
      "text/plain": [
       "array([2005.0, 179.0, '150000', 12.0, 0, 0, 30, 1, 1, 4], dtype=object)"
      ]
     },
     "execution_count": 31,
     "metadata": {},
     "output_type": "execute_result"
    }
   ],
   "source": [
    "X_train[0]"
   ]
  },
  {
   "cell_type": "code",
   "execution_count": 34,
   "id": "01e6f11b",
   "metadata": {},
   "outputs": [
    {
     "data": {
      "text/plain": [
       "array([18518.37919135])"
      ]
     },
     "execution_count": 34,
     "metadata": {},
     "output_type": "execute_result"
    }
   ],
   "source": [
    "regressor.predict([[2012.0, 179.0, '1500000', 12.0, 0, 0, 30, 1, 1, 4]])"
   ]
  },
  {
   "cell_type": "code",
   "execution_count": null,
   "id": "e1dc50a0",
   "metadata": {},
   "outputs": [],
   "source": []
  }
 ],
 "metadata": {
  "kernelspec": {
   "display_name": "Python 3 (ipykernel)",
   "language": "python",
   "name": "python3"
  },
  "language_info": {
   "codemirror_mode": {
    "name": "ipython",
    "version": 3
   },
   "file_extension": ".py",
   "mimetype": "text/x-python",
   "name": "python",
   "nbconvert_exporter": "python",
   "pygments_lexer": "ipython3",
   "version": "3.9.12"
  }
 },
 "nbformat": 4,
 "nbformat_minor": 5
}
